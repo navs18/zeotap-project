import pandas as pd

# Import data from CSV files
customers = pd.read_csv('Customers.csv')
products = pd.read_csv('Products.csv')
transactions = pd.read_csv('Transactions.csv')

# Convert date columns to datetime
customers['SignupDate'] = pd.to_datetime(customers['SignupDate'])
transactions['TransactionDate'] = pd.to_datetime(transactions['TransactionDate'])

# EDA
# 1. Customer Signup Trend
daily_signups = customers.groupby(customers['SignupDate'].dt.date).size()
plt.figure(figsize=(10, 5))
plt.plot(daily_signups, marker='o')
plt.title('Daily Signups Trend')
plt.xlabel('Date')
plt.ylabel('Number of Signups')
plt.xticks(rotation=45)
plt.grid()
plt.show()

# 2. Product Category Distribution
plt.figure(figsize=(8, 5))
product_category_counts = products['Category'].value_counts()
product_category_counts.plot(kind='bar', color='skyblue', edgecolor='black')
plt.title('Product Category Distribution')
plt.xlabel('Category')
plt.ylabel('Number of Products')
plt.show()

# 3. Region-wise Customer Distribution
plt.figure(figsize=(8, 5))
region_counts = customers['Region'].value_counts()
region_counts.plot(kind='bar', color='salmon', edgecolor='black')
plt.title('Customer Distribution by Region')
plt.xlabel('Region')
plt.ylabel('Number of Customers')
plt.show()

# 4. Transaction Volume Over Time
daily_transactions = transactions.groupby(transactions['TransactionDate'].dt.date).size()
plt.figure(figsize=(10, 5))
plt.plot(daily_transactions, marker='o', color='green')
plt.title('Transaction Volume Over Time')
plt.xlabel('Date')
plt.ylabel('Number of Transactions')
plt.xticks(rotation=45)
plt.grid()
plt.show()

# 5. Revenue Analysis
transactions['Revenue'] = transactions['Quantity'] * transactions['Price']
total_revenue = transactions['Revenue'].sum()
print(f"Total Revenue: ${total_revenue:.2f}")
